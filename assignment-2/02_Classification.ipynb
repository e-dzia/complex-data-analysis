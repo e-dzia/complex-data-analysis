{
 "cells": [
  {
   "cell_type": "code",
   "execution_count": 1,
   "metadata": {},
   "outputs": [],
   "source": [
    "import pandas as pd\n",
    "import networkx as nx\n",
    "import matplotlib.pyplot as plt\n",
    "import seaborn as sns\n",
    "import json\n",
    "\n",
    "from sklearn import svm, ensemble\n",
    "from sklearn.decomposition import TruncatedSVD\n",
    "from sklearn.metrics import classification_report, f1_score\n",
    "from sklearn.model_selection import train_test_split\n",
    "from sklearn.pipeline import make_pipeline\n",
    "import sklearn.multiclass\n",
    "\n",
    "from sklearn_hierarchical_classification.classifier import HierarchicalClassifier\n",
    "from sklearn_hierarchical_classification.constants import ROOT\n",
    "from sklearn_hierarchical_classification.metrics import h_fbeta_score, multi_labeled"
   ]
  },
  {
   "cell_type": "code",
   "execution_count": 2,
   "metadata": {},
   "outputs": [],
   "source": [
    "path_to_train_data = \"data/imclef07d/imclef07d_train.csv\"\n",
    "path_to_test_data = \"data/imclef07d/imclef07d_test.csv\"\n",
    "\n",
    "path_to_data_hf = \"data/imclef07d/imclef07d.hf\"\n",
    "\n",
    "path_to_class_hierarchy = 'data/imclef07d/class_hierarchy.json'"
   ]
  },
  {
   "cell_type": "code",
   "execution_count": 3,
   "metadata": {
    "scrolled": true
   },
   "outputs": [
    {
     "data": {
      "text/html": [
       "<div>\n",
       "<style scoped>\n",
       "    .dataframe tbody tr th:only-of-type {\n",
       "        vertical-align: middle;\n",
       "    }\n",
       "\n",
       "    .dataframe tbody tr th {\n",
       "        vertical-align: top;\n",
       "    }\n",
       "\n",
       "    .dataframe thead th {\n",
       "        text-align: right;\n",
       "    }\n",
       "</style>\n",
       "<table border=\"1\" class=\"dataframe\">\n",
       "  <thead>\n",
       "    <tr style=\"text-align: right;\">\n",
       "      <th></th>\n",
       "      <th>1</th>\n",
       "      <th>2</th>\n",
       "      <th>3</th>\n",
       "      <th>4</th>\n",
       "      <th>5</th>\n",
       "      <th>6</th>\n",
       "      <th>7</th>\n",
       "      <th>8</th>\n",
       "      <th>9</th>\n",
       "      <th>10</th>\n",
       "      <th>...</th>\n",
       "      <th>72</th>\n",
       "      <th>73</th>\n",
       "      <th>74</th>\n",
       "      <th>75</th>\n",
       "      <th>76</th>\n",
       "      <th>77</th>\n",
       "      <th>78</th>\n",
       "      <th>79</th>\n",
       "      <th>80</th>\n",
       "      <th>labels</th>\n",
       "    </tr>\n",
       "  </thead>\n",
       "  <tbody>\n",
       "    <tr>\n",
       "      <th>0</th>\n",
       "      <td>0.596529</td>\n",
       "      <td>-0.284171</td>\n",
       "      <td>0.254657</td>\n",
       "      <td>-0.162900</td>\n",
       "      <td>-0.007383</td>\n",
       "      <td>0.009371</td>\n",
       "      <td>-0.024586</td>\n",
       "      <td>-0.132000</td>\n",
       "      <td>-0.487257</td>\n",
       "      <td>-0.021700</td>\n",
       "      <td>...</td>\n",
       "      <td>0.210829</td>\n",
       "      <td>0.523171</td>\n",
       "      <td>0.275814</td>\n",
       "      <td>0.708057</td>\n",
       "      <td>0.174729</td>\n",
       "      <td>0.007300</td>\n",
       "      <td>0.440557</td>\n",
       "      <td>-0.407543</td>\n",
       "      <td>0.166243</td>\n",
       "      <td>[15, D, 2B]</td>\n",
       "    </tr>\n",
       "    <tr>\n",
       "      <th>1</th>\n",
       "      <td>0.025100</td>\n",
       "      <td>0.001543</td>\n",
       "      <td>0.397514</td>\n",
       "      <td>0.122814</td>\n",
       "      <td>-0.007383</td>\n",
       "      <td>-0.133486</td>\n",
       "      <td>0.403986</td>\n",
       "      <td>0.010857</td>\n",
       "      <td>0.084171</td>\n",
       "      <td>0.144967</td>\n",
       "      <td>...</td>\n",
       "      <td>0.353686</td>\n",
       "      <td>0.380314</td>\n",
       "      <td>0.275814</td>\n",
       "      <td>0.422343</td>\n",
       "      <td>0.317586</td>\n",
       "      <td>-0.135557</td>\n",
       "      <td>0.154843</td>\n",
       "      <td>0.592457</td>\n",
       "      <td>0.166243</td>\n",
       "      <td>[15, D, 2B]</td>\n",
       "    </tr>\n",
       "    <tr>\n",
       "      <th>2</th>\n",
       "      <td>-0.260614</td>\n",
       "      <td>0.001543</td>\n",
       "      <td>0.540371</td>\n",
       "      <td>0.408529</td>\n",
       "      <td>-0.007383</td>\n",
       "      <td>0.009371</td>\n",
       "      <td>0.118271</td>\n",
       "      <td>0.010857</td>\n",
       "      <td>0.084171</td>\n",
       "      <td>0.144967</td>\n",
       "      <td>...</td>\n",
       "      <td>0.210829</td>\n",
       "      <td>0.237457</td>\n",
       "      <td>0.418671</td>\n",
       "      <td>0.422343</td>\n",
       "      <td>0.174729</td>\n",
       "      <td>0.007300</td>\n",
       "      <td>0.583414</td>\n",
       "      <td>0.306743</td>\n",
       "      <td>0.023386</td>\n",
       "      <td>[15, D, 2B]</td>\n",
       "    </tr>\n",
       "    <tr>\n",
       "      <th>3</th>\n",
       "      <td>-0.403471</td>\n",
       "      <td>-0.284171</td>\n",
       "      <td>0.111800</td>\n",
       "      <td>-0.162900</td>\n",
       "      <td>0.159283</td>\n",
       "      <td>-0.133486</td>\n",
       "      <td>-0.024586</td>\n",
       "      <td>-0.132000</td>\n",
       "      <td>0.227029</td>\n",
       "      <td>-0.188367</td>\n",
       "      <td>...</td>\n",
       "      <td>0.210829</td>\n",
       "      <td>0.237457</td>\n",
       "      <td>-0.295614</td>\n",
       "      <td>-0.149086</td>\n",
       "      <td>-0.396700</td>\n",
       "      <td>0.007300</td>\n",
       "      <td>0.726271</td>\n",
       "      <td>-0.121829</td>\n",
       "      <td>0.023386</td>\n",
       "      <td>[15, D, 2B]</td>\n",
       "    </tr>\n",
       "    <tr>\n",
       "      <th>4</th>\n",
       "      <td>0.167957</td>\n",
       "      <td>-0.141314</td>\n",
       "      <td>0.254657</td>\n",
       "      <td>0.122814</td>\n",
       "      <td>-0.007383</td>\n",
       "      <td>-0.419200</td>\n",
       "      <td>0.118271</td>\n",
       "      <td>-0.560571</td>\n",
       "      <td>-0.344400</td>\n",
       "      <td>-0.188367</td>\n",
       "      <td>...</td>\n",
       "      <td>-0.074886</td>\n",
       "      <td>0.380314</td>\n",
       "      <td>0.418671</td>\n",
       "      <td>-0.006229</td>\n",
       "      <td>-0.539557</td>\n",
       "      <td>-0.135557</td>\n",
       "      <td>0.011986</td>\n",
       "      <td>-0.264686</td>\n",
       "      <td>-0.119471</td>\n",
       "      <td>[15, D, 2B]</td>\n",
       "    </tr>\n",
       "  </tbody>\n",
       "</table>\n",
       "<p>5 rows × 81 columns</p>\n",
       "</div>"
      ],
      "text/plain": [
       "          1         2         3         4         5         6         7  \\\n",
       "0  0.596529 -0.284171  0.254657 -0.162900 -0.007383  0.009371 -0.024586   \n",
       "1  0.025100  0.001543  0.397514  0.122814 -0.007383 -0.133486  0.403986   \n",
       "2 -0.260614  0.001543  0.540371  0.408529 -0.007383  0.009371  0.118271   \n",
       "3 -0.403471 -0.284171  0.111800 -0.162900  0.159283 -0.133486 -0.024586   \n",
       "4  0.167957 -0.141314  0.254657  0.122814 -0.007383 -0.419200  0.118271   \n",
       "\n",
       "          8         9        10  ...        72        73        74        75  \\\n",
       "0 -0.132000 -0.487257 -0.021700  ...  0.210829  0.523171  0.275814  0.708057   \n",
       "1  0.010857  0.084171  0.144967  ...  0.353686  0.380314  0.275814  0.422343   \n",
       "2  0.010857  0.084171  0.144967  ...  0.210829  0.237457  0.418671  0.422343   \n",
       "3 -0.132000  0.227029 -0.188367  ...  0.210829  0.237457 -0.295614 -0.149086   \n",
       "4 -0.560571 -0.344400 -0.188367  ... -0.074886  0.380314  0.418671 -0.006229   \n",
       "\n",
       "         76        77        78        79        80       labels  \n",
       "0  0.174729  0.007300  0.440557 -0.407543  0.166243  [15, D, 2B]  \n",
       "1  0.317586 -0.135557  0.154843  0.592457  0.166243  [15, D, 2B]  \n",
       "2  0.174729  0.007300  0.583414  0.306743  0.023386  [15, D, 2B]  \n",
       "3 -0.396700  0.007300  0.726271 -0.121829  0.023386  [15, D, 2B]  \n",
       "4 -0.539557 -0.135557  0.011986 -0.264686 -0.119471  [15, D, 2B]  \n",
       "\n",
       "[5 rows x 81 columns]"
      ]
     },
     "execution_count": 3,
     "metadata": {},
     "output_type": "execute_result"
    }
   ],
   "source": [
    "df_train = pd.read_csv(path_to_train_data, index_col=0)\n",
    "df_train['labels'] = df_train['labels'].apply(lambda x: x.split(','))\n",
    "df_train.head()"
   ]
  },
  {
   "cell_type": "code",
   "execution_count": 4,
   "metadata": {},
   "outputs": [
    {
     "data": {
      "text/html": [
       "<div>\n",
       "<style scoped>\n",
       "    .dataframe tbody tr th:only-of-type {\n",
       "        vertical-align: middle;\n",
       "    }\n",
       "\n",
       "    .dataframe tbody tr th {\n",
       "        vertical-align: top;\n",
       "    }\n",
       "\n",
       "    .dataframe thead th {\n",
       "        text-align: right;\n",
       "    }\n",
       "</style>\n",
       "<table border=\"1\" class=\"dataframe\">\n",
       "  <thead>\n",
       "    <tr style=\"text-align: right;\">\n",
       "      <th></th>\n",
       "      <th>1</th>\n",
       "      <th>2</th>\n",
       "      <th>3</th>\n",
       "      <th>4</th>\n",
       "      <th>5</th>\n",
       "      <th>6</th>\n",
       "      <th>7</th>\n",
       "      <th>8</th>\n",
       "      <th>9</th>\n",
       "      <th>10</th>\n",
       "      <th>...</th>\n",
       "      <th>72</th>\n",
       "      <th>73</th>\n",
       "      <th>74</th>\n",
       "      <th>75</th>\n",
       "      <th>76</th>\n",
       "      <th>77</th>\n",
       "      <th>78</th>\n",
       "      <th>79</th>\n",
       "      <th>80</th>\n",
       "      <th>labels</th>\n",
       "    </tr>\n",
       "  </thead>\n",
       "  <tbody>\n",
       "    <tr>\n",
       "      <th>0</th>\n",
       "      <td>-0.208179</td>\n",
       "      <td>-0.260721</td>\n",
       "      <td>0.531241</td>\n",
       "      <td>-0.314825</td>\n",
       "      <td>-0.012757</td>\n",
       "      <td>-0.261573</td>\n",
       "      <td>0.290116</td>\n",
       "      <td>0.445754</td>\n",
       "      <td>-0.359273</td>\n",
       "      <td>0.177734</td>\n",
       "      <td>...</td>\n",
       "      <td>0.643283</td>\n",
       "      <td>0.374751</td>\n",
       "      <td>0.428287</td>\n",
       "      <td>0.332671</td>\n",
       "      <td>-0.245385</td>\n",
       "      <td>0.297785</td>\n",
       "      <td>0.720676</td>\n",
       "      <td>0.451008</td>\n",
       "      <td>0.433598</td>\n",
       "      <td>[15, D, 2B]</td>\n",
       "    </tr>\n",
       "    <tr>\n",
       "      <th>1</th>\n",
       "      <td>0.077535</td>\n",
       "      <td>-0.117864</td>\n",
       "      <td>-0.040187</td>\n",
       "      <td>-0.171968</td>\n",
       "      <td>-0.179423</td>\n",
       "      <td>0.166998</td>\n",
       "      <td>0.147259</td>\n",
       "      <td>0.445754</td>\n",
       "      <td>-0.073559</td>\n",
       "      <td>0.177734</td>\n",
       "      <td>...</td>\n",
       "      <td>0.214712</td>\n",
       "      <td>0.231894</td>\n",
       "      <td>0.571145</td>\n",
       "      <td>0.332671</td>\n",
       "      <td>-0.388242</td>\n",
       "      <td>0.012070</td>\n",
       "      <td>0.434962</td>\n",
       "      <td>-0.406135</td>\n",
       "      <td>0.433598</td>\n",
       "      <td>[15, D, 2B]</td>\n",
       "    </tr>\n",
       "    <tr>\n",
       "      <th>2</th>\n",
       "      <td>0.077535</td>\n",
       "      <td>0.167850</td>\n",
       "      <td>-0.040187</td>\n",
       "      <td>-0.029111</td>\n",
       "      <td>-0.012757</td>\n",
       "      <td>-0.261573</td>\n",
       "      <td>0.147259</td>\n",
       "      <td>-0.411389</td>\n",
       "      <td>-0.073559</td>\n",
       "      <td>-0.222266</td>\n",
       "      <td>...</td>\n",
       "      <td>0.357569</td>\n",
       "      <td>0.517609</td>\n",
       "      <td>0.428287</td>\n",
       "      <td>0.666004</td>\n",
       "      <td>0.183187</td>\n",
       "      <td>0.012070</td>\n",
       "      <td>0.149247</td>\n",
       "      <td>0.165294</td>\n",
       "      <td>0.233598</td>\n",
       "      <td>[15, D, 2B]</td>\n",
       "    </tr>\n",
       "    <tr>\n",
       "      <th>3</th>\n",
       "      <td>-0.065322</td>\n",
       "      <td>-0.117864</td>\n",
       "      <td>-0.183045</td>\n",
       "      <td>0.542318</td>\n",
       "      <td>0.153910</td>\n",
       "      <td>0.024141</td>\n",
       "      <td>0.004402</td>\n",
       "      <td>0.017183</td>\n",
       "      <td>-0.216416</td>\n",
       "      <td>0.377734</td>\n",
       "      <td>...</td>\n",
       "      <td>0.071855</td>\n",
       "      <td>0.231894</td>\n",
       "      <td>0.571145</td>\n",
       "      <td>0.499337</td>\n",
       "      <td>-0.531099</td>\n",
       "      <td>0.012070</td>\n",
       "      <td>0.149247</td>\n",
       "      <td>-0.406135</td>\n",
       "      <td>0.033598</td>\n",
       "      <td>[15, D, 2B]</td>\n",
       "    </tr>\n",
       "    <tr>\n",
       "      <th>4</th>\n",
       "      <td>0.648963</td>\n",
       "      <td>0.024993</td>\n",
       "      <td>-0.040187</td>\n",
       "      <td>-0.029111</td>\n",
       "      <td>0.320577</td>\n",
       "      <td>0.309855</td>\n",
       "      <td>-0.281312</td>\n",
       "      <td>-0.268532</td>\n",
       "      <td>-0.502130</td>\n",
       "      <td>-0.022266</td>\n",
       "      <td>...</td>\n",
       "      <td>-0.071003</td>\n",
       "      <td>-0.053820</td>\n",
       "      <td>-0.000284</td>\n",
       "      <td>-0.000663</td>\n",
       "      <td>-0.388242</td>\n",
       "      <td>0.012070</td>\n",
       "      <td>-0.279324</td>\n",
       "      <td>-0.406135</td>\n",
       "      <td>-0.166402</td>\n",
       "      <td>[15, D, 2B]</td>\n",
       "    </tr>\n",
       "  </tbody>\n",
       "</table>\n",
       "<p>5 rows × 81 columns</p>\n",
       "</div>"
      ],
      "text/plain": [
       "          1         2         3         4         5         6         7  \\\n",
       "0 -0.208179 -0.260721  0.531241 -0.314825 -0.012757 -0.261573  0.290116   \n",
       "1  0.077535 -0.117864 -0.040187 -0.171968 -0.179423  0.166998  0.147259   \n",
       "2  0.077535  0.167850 -0.040187 -0.029111 -0.012757 -0.261573  0.147259   \n",
       "3 -0.065322 -0.117864 -0.183045  0.542318  0.153910  0.024141  0.004402   \n",
       "4  0.648963  0.024993 -0.040187 -0.029111  0.320577  0.309855 -0.281312   \n",
       "\n",
       "          8         9        10  ...        72        73        74        75  \\\n",
       "0  0.445754 -0.359273  0.177734  ...  0.643283  0.374751  0.428287  0.332671   \n",
       "1  0.445754 -0.073559  0.177734  ...  0.214712  0.231894  0.571145  0.332671   \n",
       "2 -0.411389 -0.073559 -0.222266  ...  0.357569  0.517609  0.428287  0.666004   \n",
       "3  0.017183 -0.216416  0.377734  ...  0.071855  0.231894  0.571145  0.499337   \n",
       "4 -0.268532 -0.502130 -0.022266  ... -0.071003 -0.053820 -0.000284 -0.000663   \n",
       "\n",
       "         76        77        78        79        80       labels  \n",
       "0 -0.245385  0.297785  0.720676  0.451008  0.433598  [15, D, 2B]  \n",
       "1 -0.388242  0.012070  0.434962 -0.406135  0.433598  [15, D, 2B]  \n",
       "2  0.183187  0.012070  0.149247  0.165294  0.233598  [15, D, 2B]  \n",
       "3 -0.531099  0.012070  0.149247 -0.406135  0.033598  [15, D, 2B]  \n",
       "4 -0.388242  0.012070 -0.279324 -0.406135 -0.166402  [15, D, 2B]  \n",
       "\n",
       "[5 rows x 81 columns]"
      ]
     },
     "execution_count": 4,
     "metadata": {},
     "output_type": "execute_result"
    }
   ],
   "source": [
    "df_test = pd.read_csv(path_to_test_data, index_col=0)\n",
    "df_test['labels'] = df_test['labels'].apply(lambda x: x.split(','))\n",
    "df_test.head()"
   ]
  },
  {
   "cell_type": "code",
   "execution_count": 5,
   "metadata": {},
   "outputs": [],
   "source": [
    "with open(path_to_class_hierarchy, 'r') as f:\n",
    "    class_hierarchy = json.load(f)\n",
    "\n",
    "class_hierarchy[ROOT] = class_hierarchy['19'] \n",
    "class_hierarchy.pop('19')\n",
    "pass"
   ]
  },
  {
   "cell_type": "code",
   "execution_count": 6,
   "metadata": {},
   "outputs": [
    {
     "data": {
      "text/plain": [
       "{'15': ['16', 'D'],\n",
       " '16': ['1D', '1F', '22', '23', '2A'],\n",
       " 'D': ['E', 'F', '13', '2B'],\n",
       " '1A': ['1B', '1C'],\n",
       " '1B': ['1E'],\n",
       " '1C': ['2D'],\n",
       " '2': ['3', '7', 'A', '5', 'B'],\n",
       " '3': ['4'],\n",
       " '7': ['8'],\n",
       " 'A': ['26', '27'],\n",
       " '5': ['6', '9', 'C'],\n",
       " 'B': ['2C'],\n",
       " '10': ['11', '12', '14', '17', '18', '0', '24'],\n",
       " '11': ['20'],\n",
       " '12': ['2E'],\n",
       " '14': ['29'],\n",
       " '17': ['28'],\n",
       " '18': ['21'],\n",
       " '0': ['1'],\n",
       " '24': ['25'],\n",
       " '<ROOT>': ['15', '1A', '2', '10']}"
      ]
     },
     "execution_count": 6,
     "metadata": {},
     "output_type": "execute_result"
    }
   ],
   "source": [
    "class_hierarchy"
   ]
  },
  {
   "cell_type": "code",
   "execution_count": 7,
   "metadata": {},
   "outputs": [],
   "source": [
    "y_train = df_train['labels']\n",
    "X_train = df_train.drop(columns=['labels'])\n",
    "\n",
    "y_test = df_test['labels']\n",
    "X_test = df_test.drop(columns=['labels'])"
   ]
  },
  {
   "cell_type": "code",
   "execution_count": 8,
   "metadata": {},
   "outputs": [],
   "source": [
    "# y_train.head(), X_train.head()"
   ]
  },
  {
   "cell_type": "markdown",
   "metadata": {},
   "source": [
    "# Hierarchical classification - LCPN\n",
    "\n",
    "LCPN - Local Classifier per Parent Node"
   ]
  },
  {
   "cell_type": "code",
   "execution_count": 9,
   "metadata": {},
   "outputs": [],
   "source": [
    "base_estimator = make_pipeline(\n",
    "    TruncatedSVD(n_components=30),\n",
    "    svm.SVC(\n",
    "        gamma='scale',\n",
    "        kernel=\"sigmoid\",\n",
    "        probability=True\n",
    "    ),\n",
    ")\n",
    "clf_lcpn = HierarchicalClassifier(\n",
    "    base_estimator=base_estimator,\n",
    "    class_hierarchy=class_hierarchy,\n",
    "    algorithm='lcpn'\n",
    ")"
   ]
  },
  {
   "cell_type": "code",
   "execution_count": 11,
   "metadata": {},
   "outputs": [
    {
     "name": "stdout",
     "output_type": "stream",
     "text": [
      "CPU times: user 47.4 s, sys: 3.5 s, total: 50.9 s\n",
      "Wall time: 46.3 s\n"
     ]
    },
    {
     "data": {
      "text/plain": [
       "HierarchicalClassifier(algorithm='lcpn',\n",
       "                       base_estimator=Pipeline(memory=None,\n",
       "                                               steps=[('truncatedsvd',\n",
       "                                                       TruncatedSVD(algorithm='randomized',\n",
       "                                                                    n_components=30,\n",
       "                                                                    n_iter=5,\n",
       "                                                                    random_state=None,\n",
       "                                                                    tol=0.0)),\n",
       "                                                      ('svc',\n",
       "                                                       SVC(C=1.0,\n",
       "                                                           break_ties=False,\n",
       "                                                           cache_size=200,\n",
       "                                                           class_weight=None,\n",
       "                                                           coef0=0.0,\n",
       "                                                           decision_function_shape='ovr',\n",
       "                                                           degree=3,\n",
       "                                                           gamma='scale',\n",
       "                                                           kernel='sigmoid',\n",
       "                                                           max_iter=-1,\n",
       "                                                           pro...\n",
       "                                        '16': ['1D', '1F', '22', '23', '2A'],\n",
       "                                        '17': ['28'], '18': ['21'],\n",
       "                                        '1A': ['1B', '1C'], '1B': ['1E'],\n",
       "                                        '1C': ['2D'],\n",
       "                                        '2': ['3', '7', 'A', '5', 'B'],\n",
       "                                        '24': ['25'], '3': ['4'],\n",
       "                                        '5': ['6', '9', 'C'], '7': ['8'],\n",
       "                                        '<ROOT>': ['15', '1A', '2', '10'],\n",
       "                                        'A': ['26', '27'], 'B': ['2C'],\n",
       "                                        'D': ['E', 'F', '13', '2B']},\n",
       "                       prediction_depth='mlnp', progress_wrapper=None,\n",
       "                       root='<ROOT>', stopping_criteria=None,\n",
       "                       training_strategy=None)"
      ]
     },
     "execution_count": 11,
     "metadata": {},
     "output_type": "execute_result"
    }
   ],
   "source": [
    "%%time\n",
    "\n",
    "clf_lcpn.fit(X_train, y_train.apply(lambda x: x[-1]))"
   ]
  },
  {
   "cell_type": "code",
   "execution_count": 12,
   "metadata": {},
   "outputs": [],
   "source": [
    "y_pred = clf_lcpn.predict(X_test)"
   ]
  },
  {
   "cell_type": "code",
   "execution_count": 13,
   "metadata": {
    "scrolled": true
   },
   "outputs": [
    {
     "name": "stdout",
     "output_type": "stream",
     "text": [
      "Classification Report:\n",
      "               precision    recall  f1-score   support\n",
      "\n",
      "           1       0.00      0.00      0.00        13\n",
      "          13       0.00      0.00      0.00         5\n",
      "          1D       0.00      0.00      0.00         1\n",
      "          1E       0.00      0.00      0.00        12\n",
      "          1F       0.62      0.94      0.75       198\n",
      "          20       0.00      0.00      0.00        13\n",
      "          21       0.00      0.00      0.00         4\n",
      "          22       0.37      0.85      0.51       255\n",
      "          23       0.25      0.50      0.33         8\n",
      "          25       0.00      0.00      0.00         2\n",
      "          26       0.07      0.02      0.03        59\n",
      "          27       0.93      0.15      0.26        87\n",
      "          28       0.00      0.00      0.00        15\n",
      "          29       0.00      0.00      0.00        10\n",
      "          2A       0.00      0.00      0.00         3\n",
      "          2B       0.31      0.03      0.05       154\n",
      "          2C       0.09      0.05      0.07        57\n",
      "          2D       1.00      0.22      0.36         9\n",
      "          2E       0.00      0.00      0.00         9\n",
      "           4       0.00      0.00      0.00        32\n",
      "           6       0.00      0.00      0.00         1\n",
      "           8       0.00      0.00      0.00        13\n",
      "           9       0.00      0.00      0.00         1\n",
      "           C       0.00      0.00      0.00        27\n",
      "           E       0.00      0.00      0.00         1\n",
      "           F       0.00      0.00      0.00        17\n",
      "\n",
      "    accuracy                           0.43      1006\n",
      "   macro avg       0.14      0.11      0.09      1006\n",
      "weighted avg       0.36      0.43      0.32      1006\n",
      "\n"
     ]
    },
    {
     "name": "stderr",
     "output_type": "stream",
     "text": [
      "/home/edzia/PWr/venv/lib/python3.6/site-packages/sklearn/metrics/_classification.py:1272: UndefinedMetricWarning: Precision and F-score are ill-defined and being set to 0.0 in labels with no predicted samples. Use `zero_division` parameter to control this behavior.\n",
      "  _warn_prf(average, modifier, msg_start, len(result))\n"
     ]
    }
   ],
   "source": [
    "print(\"Classification Report:\\n\", classification_report(y_test.apply(lambda x: x[-1]), y_pred))"
   ]
  },
  {
   "cell_type": "code",
   "execution_count": 14,
   "metadata": {},
   "outputs": [
    {
     "name": "stdout",
     "output_type": "stream",
     "text": [
      "h_fbeta_score:  0.6571479564519008\n"
     ]
    }
   ],
   "source": [
    "with multi_labeled(y_test.apply(lambda x: x[-1]), y_pred, clf_lcpn.graph_) as (y_test_, y_pred_, graph_):\n",
    "    h_fbeta = h_fbeta_score(\n",
    "        y_test_,\n",
    "        y_pred_,\n",
    "        graph_,\n",
    "    )\n",
    "    print(\"h_fbeta_score: \", h_fbeta)"
   ]
  },
  {
   "cell_type": "markdown",
   "metadata": {},
   "source": [
    "# Hierarchical classification - LCN"
   ]
  },
  {
   "cell_type": "markdown",
   "metadata": {},
   "source": [
    "LCN - Local Classifier per Node - Binary classification for each node in class hierarchy"
   ]
  },
  {
   "cell_type": "code",
   "execution_count": 15,
   "metadata": {},
   "outputs": [],
   "source": [
    "mlb = sklearn.preprocessing.MultiLabelBinarizer()\n"
   ]
  },
  {
   "cell_type": "code",
   "execution_count": 16,
   "metadata": {},
   "outputs": [],
   "source": [
    "clf_lcn = sklearn.multiclass.OneVsRestClassifier(estimator=base_estimator)"
   ]
  },
  {
   "cell_type": "code",
   "execution_count": 17,
   "metadata": {},
   "outputs": [
    {
     "name": "stdout",
     "output_type": "stream",
     "text": [
      "CPU times: user 4min 4s, sys: 11.5 s, total: 4min 15s\n",
      "Wall time: 3min 57s\n"
     ]
    },
    {
     "data": {
      "text/plain": [
       "OneVsRestClassifier(estimator=Pipeline(memory=None,\n",
       "                                       steps=[('truncatedsvd',\n",
       "                                               TruncatedSVD(algorithm='randomized',\n",
       "                                                            n_components=30,\n",
       "                                                            n_iter=5,\n",
       "                                                            random_state=None,\n",
       "                                                            tol=0.0)),\n",
       "                                              ('svc',\n",
       "                                               SVC(C=1.0, break_ties=False,\n",
       "                                                   cache_size=200,\n",
       "                                                   class_weight=None, coef0=0.0,\n",
       "                                                   decision_function_shape='ovr',\n",
       "                                                   degree=3, gamma='scale',\n",
       "                                                   kernel='sigmoid',\n",
       "                                                   max_iter=-1,\n",
       "                                                   probability=True,\n",
       "                                                   random_state=None,\n",
       "                                                   shrinking=True, tol=0.001,\n",
       "                                                   verbose=False))],\n",
       "                                       verbose=False),\n",
       "                    n_jobs=None)"
      ]
     },
     "execution_count": 17,
     "metadata": {},
     "output_type": "execute_result"
    }
   ],
   "source": [
    "%%time\n",
    "\n",
    "clf_lcn.fit(X_train, mlb.fit_transform(y_train))"
   ]
  },
  {
   "cell_type": "code",
   "execution_count": 18,
   "metadata": {},
   "outputs": [],
   "source": [
    "y_pred = clf_lcn.predict(X_test)\n",
    "# y_pred = mlb.inverse_transform(y_pred)"
   ]
  },
  {
   "cell_type": "code",
   "execution_count": 19,
   "metadata": {},
   "outputs": [
    {
     "name": "stdout",
     "output_type": "stream",
     "text": [
      "Classification Report:\n",
      "               precision    recall  f1-score   support\n",
      "\n",
      "           0       0.00      0.00      0.00        13\n",
      "           1       0.00      0.00      0.00        13\n",
      "           2       0.07      0.05      0.05        66\n",
      "           3       0.00      0.00      0.00        13\n",
      "           4       0.00      0.00      0.00         9\n",
      "           5       0.00      0.00      0.00         5\n",
      "           6       0.33      0.10      0.15        10\n",
      "           7       0.72      0.71      0.72       642\n",
      "           8       0.43      0.41      0.42       465\n",
      "           9       0.00      0.00      0.00        15\n",
      "          10       0.00      0.00      0.00         4\n",
      "          11       0.24      0.29      0.26        21\n",
      "          12       0.00      0.00      0.00        12\n",
      "          13       0.86      0.67      0.75         9\n",
      "          14       0.00      0.00      0.00         1\n",
      "          15       0.00      0.00      0.00        12\n",
      "          16       0.59      0.60      0.59       198\n",
      "          17       0.41      0.40      0.41       277\n",
      "          18       0.00      0.00      0.00        13\n",
      "          19       0.00      0.00      0.00         4\n",
      "          20       0.30      0.29      0.29       255\n",
      "          21       0.33      0.12      0.18         8\n",
      "          22       0.00      0.00      0.00         2\n",
      "          23       0.00      0.00      0.00         2\n",
      "          24       0.20      0.20      0.20        59\n",
      "          25       0.85      0.83      0.84        87\n",
      "          26       0.00      0.00      0.00        15\n",
      "          27       1.00      0.20      0.33        10\n",
      "          28       0.00      0.00      0.00         3\n",
      "          29       0.37      0.34      0.36       154\n",
      "          30       0.08      0.07      0.07        57\n",
      "          31       0.86      0.67      0.75         9\n",
      "          32       0.00      0.00      0.00         9\n",
      "          33       0.14      0.09      0.11        32\n",
      "          34       0.15      0.09      0.12        32\n",
      "          35       0.03      0.03      0.03        29\n",
      "          36       0.00      0.00      0.00         1\n",
      "          37       0.50      0.23      0.32        13\n",
      "          38       0.50      0.23      0.32        13\n",
      "          39       0.00      0.00      0.00         1\n",
      "          40       0.49      0.51      0.50       146\n",
      "          41       0.06      0.05      0.06        57\n",
      "          42       0.04      0.04      0.04        27\n",
      "          43       0.29      0.24      0.26       177\n",
      "          44       0.00      0.00      0.00         1\n",
      "          45       0.00      0.00      0.00        17\n",
      "\n",
      "   micro avg       0.45      0.41      0.43      3018\n",
      "   macro avg       0.21      0.16      0.18      3018\n",
      "weighted avg       0.43      0.41      0.42      3018\n",
      " samples avg       0.45      0.41      0.41      3018\n",
      "\n"
     ]
    },
    {
     "name": "stderr",
     "output_type": "stream",
     "text": [
      "/home/edzia/PWr/venv/lib/python3.6/site-packages/sklearn/metrics/_classification.py:1272: UndefinedMetricWarning: Precision and F-score are ill-defined and being set to 0.0 in labels with no predicted samples. Use `zero_division` parameter to control this behavior.\n",
      "  _warn_prf(average, modifier, msg_start, len(result))\n",
      "/home/edzia/PWr/venv/lib/python3.6/site-packages/sklearn/metrics/_classification.py:1272: UndefinedMetricWarning: Precision and F-score are ill-defined and being set to 0.0 in samples with no predicted labels. Use `zero_division` parameter to control this behavior.\n",
      "  _warn_prf(average, modifier, msg_start, len(result))\n"
     ]
    }
   ],
   "source": [
    "print(\"Classification Report:\\n\", classification_report(mlb.transform(y_test), y_pred))"
   ]
  },
  {
   "cell_type": "code",
   "execution_count": 20,
   "metadata": {},
   "outputs": [
    {
     "name": "stdout",
     "output_type": "stream",
     "text": [
      "h_fbeta_score:  0.47195357833655704\n"
     ]
    }
   ],
   "source": [
    "with multi_labeled(y_test, mlb.inverse_transform(y_pred), clf_lcpn.graph_) as (y_test_, y_pred_, graph_):\n",
    "    h_fbeta = h_fbeta_score(\n",
    "        y_test_,\n",
    "        y_pred_,\n",
    "        graph_,\n",
    "    )\n",
    "    print(\"h_fbeta_score: \", h_fbeta)"
   ]
  },
  {
   "cell_type": "markdown",
   "metadata": {},
   "source": [
    "# Hierarchical classification - LCL"
   ]
  },
  {
   "cell_type": "code",
   "execution_count": 21,
   "metadata": {},
   "outputs": [],
   "source": [
    "clf_lcl1 = sklearn.base.clone(base_estimator)\n",
    "clf_lcl2 = sklearn.base.clone(base_estimator)\n",
    "clf_lcl3 = sklearn.base.clone(base_estimator)"
   ]
  },
  {
   "cell_type": "code",
   "execution_count": 22,
   "metadata": {},
   "outputs": [
    {
     "name": "stdout",
     "output_type": "stream",
     "text": [
      "CPU times: user 1min 15s, sys: 797 ms, total: 1min 16s\n",
      "Wall time: 1min 15s\n"
     ]
    },
    {
     "data": {
      "text/plain": [
       "Pipeline(memory=None,\n",
       "         steps=[('truncatedsvd',\n",
       "                 TruncatedSVD(algorithm='randomized', n_components=30, n_iter=5,\n",
       "                              random_state=None, tol=0.0)),\n",
       "                ('svc',\n",
       "                 SVC(C=1.0, break_ties=False, cache_size=200, class_weight=None,\n",
       "                     coef0=0.0, decision_function_shape='ovr', degree=3,\n",
       "                     gamma='scale', kernel='sigmoid', max_iter=-1,\n",
       "                     probability=True, random_state=None, shrinking=True,\n",
       "                     tol=0.001, verbose=False))],\n",
       "         verbose=False)"
      ]
     },
     "execution_count": 22,
     "metadata": {},
     "output_type": "execute_result"
    }
   ],
   "source": [
    "%%time\n",
    "\n",
    "clf_lcl1.fit(X_train, y_train.apply(lambda x: x[0]))\n",
    "clf_lcl2.fit(X_train, y_train.apply(lambda x: x[1]))\n",
    "clf_lcl3.fit(X_train, y_train.apply(lambda x: x[2]))"
   ]
  },
  {
   "cell_type": "code",
   "execution_count": 23,
   "metadata": {},
   "outputs": [],
   "source": [
    "def predict_lcl(clf1, clf2, clf3, X_test):\n",
    "    y_pred1 = clf1.predict(X_test)\n",
    "    y_pred2 = clf2.predict(X_test)\n",
    "    y_pred3 = clf3.predict(X_test)\n",
    "    return list(zip(y_pred1, y_pred2, y_pred3))\n",
    "\n",
    "y_pred = predict_lcl(clf_lcl1, clf_lcl2, clf_lcl3, X_test)"
   ]
  },
  {
   "cell_type": "code",
   "execution_count": 24,
   "metadata": {
    "scrolled": true
   },
   "outputs": [],
   "source": [
    "# print(\"Classification Report:\\n\", classification_report(y_test, y_pred))"
   ]
  },
  {
   "cell_type": "code",
   "execution_count": 25,
   "metadata": {},
   "outputs": [
    {
     "name": "stdout",
     "output_type": "stream",
     "text": [
      "h_fbeta_score:  0.5886095122690093\n"
     ]
    }
   ],
   "source": [
    "with multi_labeled(y_test, y_pred, clf_lcpn.graph_) as (y_test_, y_pred_, graph_):\n",
    "    h_fbeta = h_fbeta_score(\n",
    "        y_test_,\n",
    "        y_pred_,\n",
    "        graph_,\n",
    "    )\n",
    "    print(\"h_fbeta_score: \", h_fbeta)"
   ]
  },
  {
   "cell_type": "markdown",
   "metadata": {},
   "source": [
    "# Big Bang classification"
   ]
  },
  {
   "cell_type": "code",
   "execution_count": 26,
   "metadata": {},
   "outputs": [
    {
     "name": "stdout",
     "output_type": "stream",
     "text": [
      "CPU times: user 59.5 s, sys: 478 ms, total: 60 s\n",
      "Wall time: 1min 1s\n"
     ]
    }
   ],
   "source": [
    "%%time\n",
    "\n",
    "clf_big_bang = make_pipeline(\n",
    "            TruncatedSVD(n_components=30),\n",
    "            sklearn.ensemble.RandomForestClassifier()\n",
    "        )\n",
    "mlb = sklearn.preprocessing.MultiLabelBinarizer()\n",
    "clf_big_bang.fit(X_train, mlb.fit_transform(y_train))\n",
    "y_pred = clf_big_bang.predict(X_test)\n",
    "y_pred = mlb.inverse_transform(y_pred)"
   ]
  },
  {
   "cell_type": "code",
   "execution_count": 27,
   "metadata": {},
   "outputs": [
    {
     "name": "stdout",
     "output_type": "stream",
     "text": [
      "h_fbeta_score:  0.7341425215348474\n"
     ]
    }
   ],
   "source": [
    "with multi_labeled(y_test, y_pred, clf_lcpn.graph_) as (y_test_, y_pred_, graph_):\n",
    "    h_fbeta = h_fbeta_score(\n",
    "        y_test_,\n",
    "        y_pred_,\n",
    "        graph_,\n",
    "    )\n",
    "    print(\"h_fbeta_score: \", h_fbeta)"
   ]
  },
  {
   "cell_type": "markdown",
   "metadata": {},
   "source": [
    "# Flat classification"
   ]
  },
  {
   "cell_type": "code",
   "execution_count": 28,
   "metadata": {},
   "outputs": [],
   "source": [
    "clf_flat = base_estimator"
   ]
  },
  {
   "cell_type": "code",
   "execution_count": 29,
   "metadata": {},
   "outputs": [
    {
     "name": "stdout",
     "output_type": "stream",
     "text": [
      "CPU times: user 38.2 s, sys: 232 ms, total: 38.4 s\n",
      "Wall time: 39.6 s\n"
     ]
    }
   ],
   "source": [
    "%%time\n",
    "\n",
    "clf_flat = clf_flat.fit(X_train, y_train.apply(lambda x: x[-1]))"
   ]
  },
  {
   "cell_type": "code",
   "execution_count": 31,
   "metadata": {},
   "outputs": [],
   "source": [
    "y_pred = clf_flat.predict(X_test)"
   ]
  },
  {
   "cell_type": "code",
   "execution_count": 32,
   "metadata": {},
   "outputs": [
    {
     "name": "stdout",
     "output_type": "stream",
     "text": [
      "Classification Report:\n",
      "               precision    recall  f1-score   support\n",
      "\n",
      "           1       0.25      0.08      0.12        13\n",
      "          13       0.00      0.00      0.00         5\n",
      "          1D       0.00      0.00      0.00         1\n",
      "          1E       0.18      0.33      0.24        12\n",
      "          1F       0.76      0.84      0.80       198\n",
      "          20       0.12      0.23      0.15        13\n",
      "          21       0.75      0.75      0.75         4\n",
      "          22       0.47      0.71      0.56       255\n",
      "          23       0.60      0.38      0.46         8\n",
      "          25       0.00      0.00      0.00         2\n",
      "          26       0.50      0.29      0.37        59\n",
      "          27       0.92      0.89      0.90        87\n",
      "          28       0.67      0.13      0.22        15\n",
      "          29       0.80      0.40      0.53        10\n",
      "          2A       0.00      0.00      0.00         3\n",
      "          2B       0.51      0.42      0.46       154\n",
      "          2C       0.22      0.11      0.14        57\n",
      "          2D       0.70      0.78      0.74         9\n",
      "          2E       0.50      0.11      0.18         9\n",
      "           4       0.22      0.12      0.16        32\n",
      "           6       0.00      0.00      0.00         1\n",
      "           8       0.00      0.00      0.00        13\n",
      "           9       0.00      0.00      0.00         1\n",
      "           C       0.19      0.15      0.17        27\n",
      "           E       0.00      0.00      0.00         1\n",
      "           F       0.20      0.06      0.09        17\n",
      "\n",
      "    accuracy                           0.55      1006\n",
      "   macro avg       0.33      0.26      0.27      1006\n",
      "weighted avg       0.53      0.55      0.52      1006\n",
      "\n"
     ]
    },
    {
     "name": "stderr",
     "output_type": "stream",
     "text": [
      "/home/edzia/PWr/venv/lib/python3.6/site-packages/sklearn/metrics/_classification.py:1272: UndefinedMetricWarning: Precision and F-score are ill-defined and being set to 0.0 in labels with no predicted samples. Use `zero_division` parameter to control this behavior.\n",
      "  _warn_prf(average, modifier, msg_start, len(result))\n"
     ]
    }
   ],
   "source": [
    "print(\"Classification Report:\\n\", classification_report(y_test.apply(lambda x: x[-1]), y_pred))"
   ]
  },
  {
   "cell_type": "code",
   "execution_count": 33,
   "metadata": {},
   "outputs": [
    {
     "name": "stdout",
     "output_type": "stream",
     "text": [
      "h_fbeta_score:  0.7125176803394627\n"
     ]
    }
   ],
   "source": [
    "with multi_labeled(y_test.apply(lambda x: x[-1]), y_pred, clf_lcpn.graph_) as (y_test_, y_pred_, graph_):\n",
    "    h_fbeta = h_fbeta_score(\n",
    "        y_test_,\n",
    "        y_pred_,\n",
    "        graph_,\n",
    "    )\n",
    "    print(\"h_fbeta_score: \", h_fbeta)"
   ]
  },
  {
   "cell_type": "code",
   "execution_count": null,
   "metadata": {},
   "outputs": [],
   "source": []
  }
 ],
 "metadata": {
  "kernelspec": {
   "display_name": "Python 3",
   "language": "python",
   "name": "python3"
  },
  "language_info": {
   "codemirror_mode": {
    "name": "ipython",
    "version": 3
   },
   "file_extension": ".py",
   "mimetype": "text/x-python",
   "name": "python",
   "nbconvert_exporter": "python",
   "pygments_lexer": "ipython3",
   "version": "3.6.8"
  }
 },
 "nbformat": 4,
 "nbformat_minor": 2
}
