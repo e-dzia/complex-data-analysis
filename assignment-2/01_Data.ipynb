{
 "cells": [
  {
   "cell_type": "code",
   "execution_count": 47,
   "metadata": {},
   "outputs": [],
   "source": [
    "import pandas as pd\n",
    "import networkx as nx\n",
    "import matplotlib.pyplot as plt\n",
    "import seaborn as sns\n",
    "import json"
   ]
  },
  {
   "cell_type": "code",
   "execution_count": 3,
   "metadata": {},
   "outputs": [],
   "source": [
    "path_to_data = \"data/imclef07d/imclef07d_train.csv\"\n",
    "path_to_data_hf = \"data/imclef07d/imclef07d.hf\""
   ]
  },
  {
   "cell_type": "code",
   "execution_count": 4,
   "metadata": {},
   "outputs": [],
   "source": [
    "g = nx.DiGraph()\n",
    "with open(path_to_data_hf, \"r\") as f:\n",
    "    for line in f:\n",
    "        v1, v2 = line.replace('\\n', '').split(' ')\n",
    "        g.add_edge(v1, v2)"
   ]
  },
  {
   "cell_type": "code",
   "execution_count": 17,
   "metadata": {},
   "outputs": [
    {
     "data": {
      "text/plain": [
       "{'id': '19',\n",
       " 'children': [{'id': '15',\n",
       "   'children': [{'id': '16',\n",
       "     'children': [{'id': '1D'},\n",
       "      {'id': '1F'},\n",
       "      {'id': '22'},\n",
       "      {'id': '23'},\n",
       "      {'id': '2A'}]},\n",
       "    {'id': 'D',\n",
       "     'children': [{'id': 'E'}, {'id': 'F'}, {'id': '13'}, {'id': '2B'}]}]},\n",
       "  {'id': '1A',\n",
       "   'children': [{'id': '1B', 'children': [{'id': '1E'}]},\n",
       "    {'id': '1C', 'children': [{'id': '2D'}]}]},\n",
       "  {'id': '2',\n",
       "   'children': [{'id': '3', 'children': [{'id': '4'}]},\n",
       "    {'id': '7', 'children': [{'id': '8'}]},\n",
       "    {'id': 'A', 'children': [{'id': '26'}, {'id': '27'}]},\n",
       "    {'id': '5', 'children': [{'id': '6'}, {'id': '9'}, {'id': 'C'}]},\n",
       "    {'id': 'B', 'children': [{'id': '2C'}]}]},\n",
       "  {'id': '10',\n",
       "   'children': [{'id': '11', 'children': [{'id': '20'}]},\n",
       "    {'id': '12', 'children': [{'id': '2E'}]},\n",
       "    {'id': '14', 'children': [{'id': '29'}]},\n",
       "    {'id': '17', 'children': [{'id': '28'}]},\n",
       "    {'id': '18', 'children': [{'id': '21'}]},\n",
       "    {'id': '0', 'children': [{'id': '1'}]},\n",
       "    {'id': '24', 'children': [{'id': '25'}]}]}]}"
      ]
     },
     "execution_count": 17,
     "metadata": {},
     "output_type": "execute_result"
    }
   ],
   "source": [
    "nx.tree_data(g, '19')"
   ]
  },
  {
   "cell_type": "code",
   "execution_count": 45,
   "metadata": {},
   "outputs": [
    {
     "data": {
      "text/plain": [
       "{'19': ['15', '1A', '2', '10'],\n",
       " '15': ['16', 'D'],\n",
       " '16': ['1D', '1F', '22', '23', '2A'],\n",
       " 'D': ['E', 'F', '13', '2B'],\n",
       " '1A': ['1B', '1C'],\n",
       " '1B': ['1E'],\n",
       " '1C': ['2D'],\n",
       " '2': ['3', '7', 'A', '5', 'B'],\n",
       " '3': ['4'],\n",
       " '7': ['8'],\n",
       " 'A': ['26', '27'],\n",
       " '5': ['6', '9', 'C'],\n",
       " 'B': ['2C'],\n",
       " '10': ['11', '12', '14', '17', '18', '0', '24'],\n",
       " '11': ['20'],\n",
       " '12': ['2E'],\n",
       " '14': ['29'],\n",
       " '17': ['28'],\n",
       " '18': ['21'],\n",
       " '0': ['1'],\n",
       " '24': ['25']}"
      ]
     },
     "execution_count": 45,
     "metadata": {},
     "output_type": "execute_result"
    }
   ],
   "source": [
    "tree_data = nx.tree_data(g, '19')\n",
    "class_hierarchy = {}\n",
    "\n",
    "def print_children(tree_data):\n",
    "    node_id = None\n",
    "    for key, value in tree_data.items():\n",
    "        if key == 'id':\n",
    "            node_id = value\n",
    "            class_hierarchy[node_id] = []\n",
    "        if key == 'children':\n",
    "            for node  in value:\n",
    "                class_hierarchy[node_id].append(node[\"id\"])\n",
    "                print_children(node)\n",
    "    for key, item in class_hierarchy.copy().items():\n",
    "        if len(item) == 0:\n",
    "            class_hierarchy.pop(key)\n",
    "\n",
    "print_children(tree_data)\n",
    "class_hierarchy"
   ]
  },
  {
   "cell_type": "code",
   "execution_count": 49,
   "metadata": {},
   "outputs": [],
   "source": [
    "with open('data/imclef07d/class_hierarchy.json', 'w') as f:\n",
    "    json.dump(class_hierarchy, f)"
   ]
  },
  {
   "cell_type": "code",
   "execution_count": 5,
   "metadata": {},
   "outputs": [
    {
     "name": "stderr",
     "output_type": "stream",
     "text": [
      "/home/edzia/PWr/venv/lib/python3.6/site-packages/networkx/drawing/layout.py:950: FutureWarning: arrays to stack must be passed as a \"sequence\" type such as list or tuple. Support for non-sequence iterables such as generators is deprecated as of NumPy 1.16 and will raise an error in the future.\n",
      "  pos = np.row_stack((pos[x] for x in node_list))\n"
     ]
    },
    {
     "data": {
      "image/png": "[encoded data removed]",
      "text/plain": [
       "<Figure size 720x720 with 1 Axes>"
      ]
     },
     "metadata": {},
     "output_type": "display_data"
    }
   ],
   "source": [
    "options = {\n",
    "    'node_color': 'orange',\n",
    "    'node_size': 200,\n",
    "    'line_color': 'grey',\n",
    "    'linewidths': 0,\n",
    "    'width': 0.1,\n",
    "}\n",
    "plt.figure(figsize=(10,10))\n",
    "pos = nx.planar_layout(g)\n",
    "# pos = nx.kamada_kawai_layout(g)\n",
    "nx.draw(g, pos, with_labels=True, **options)\n"
   ]
  },
  {
   "cell_type": "code",
   "execution_count": 57,
   "metadata": {},
   "outputs": [],
   "source": [
    "# code to change this weird format to df\n",
    "# df = pd.DataFrame()\n",
    "# with open(path_to_data, \"r\") as f:\n",
    "#     for line in f:\n",
    "#         row = {}\n",
    "#         values = line.replace('\\n', '').split(' ')\n",
    "#         row['labels'] = values[0]\n",
    "#         values_string = ','.join(values[1:])\n",
    "#         values_string = f'row.update({{{values_string}}})'\n",
    "#         exec(values_string)\n",
    "#         df = df.append(row, ignore_index=True)"
   ]
  },
  {
   "cell_type": "code",
   "execution_count": 69,
   "metadata": {},
   "outputs": [],
   "source": [
    "df = pd.read_csv(path_to_data)"
   ]
  },
  {
   "cell_type": "code",
   "execution_count": 70,
   "metadata": {},
   "outputs": [
    {
     "data": {
      "text/html": [
       "<div>\n",
       "<style scoped>\n",
       "    .dataframe tbody tr th:only-of-type {\n",
       "        vertical-align: middle;\n",
       "    }\n",
       "\n",
       "    .dataframe tbody tr th {\n",
       "        vertical-align: top;\n",
       "    }\n",
       "\n",
       "    .dataframe thead th {\n",
       "        text-align: right;\n",
       "    }\n",
       "</style>\n",
       "<table border=\"1\" class=\"dataframe\">\n",
       "  <thead>\n",
       "    <tr style=\"text-align: right;\">\n",
       "      <th></th>\n",
       "      <th>Unnamed: 0</th>\n",
       "      <th>1</th>\n",
       "      <th>2</th>\n",
       "      <th>3</th>\n",
       "      <th>4</th>\n",
       "      <th>5</th>\n",
       "      <th>6</th>\n",
       "      <th>7</th>\n",
       "      <th>8</th>\n",
       "      <th>9</th>\n",
       "      <th>...</th>\n",
       "      <th>72</th>\n",
       "      <th>73</th>\n",
       "      <th>74</th>\n",
       "      <th>75</th>\n",
       "      <th>76</th>\n",
       "      <th>77</th>\n",
       "      <th>78</th>\n",
       "      <th>79</th>\n",
       "      <th>80</th>\n",
       "      <th>labels</th>\n",
       "    </tr>\n",
       "  </thead>\n",
       "  <tbody>\n",
       "    <tr>\n",
       "      <th>0</th>\n",
       "      <td>0</td>\n",
       "      <td>0.596529</td>\n",
       "      <td>-0.284171</td>\n",
       "      <td>0.254657</td>\n",
       "      <td>-0.162900</td>\n",
       "      <td>-0.007383</td>\n",
       "      <td>0.009371</td>\n",
       "      <td>-0.024586</td>\n",
       "      <td>-0.132000</td>\n",
       "      <td>-0.487257</td>\n",
       "      <td>...</td>\n",
       "      <td>0.210829</td>\n",
       "      <td>0.523171</td>\n",
       "      <td>0.275814</td>\n",
       "      <td>0.708057</td>\n",
       "      <td>0.174729</td>\n",
       "      <td>0.007300</td>\n",
       "      <td>0.440557</td>\n",
       "      <td>-0.407543</td>\n",
       "      <td>0.166243</td>\n",
       "      <td>15,D,2B</td>\n",
       "    </tr>\n",
       "    <tr>\n",
       "      <th>1</th>\n",
       "      <td>1</td>\n",
       "      <td>0.025100</td>\n",
       "      <td>0.001543</td>\n",
       "      <td>0.397514</td>\n",
       "      <td>0.122814</td>\n",
       "      <td>-0.007383</td>\n",
       "      <td>-0.133486</td>\n",
       "      <td>0.403986</td>\n",
       "      <td>0.010857</td>\n",
       "      <td>0.084171</td>\n",
       "      <td>...</td>\n",
       "      <td>0.353686</td>\n",
       "      <td>0.380314</td>\n",
       "      <td>0.275814</td>\n",
       "      <td>0.422343</td>\n",
       "      <td>0.317586</td>\n",
       "      <td>-0.135557</td>\n",
       "      <td>0.154843</td>\n",
       "      <td>0.592457</td>\n",
       "      <td>0.166243</td>\n",
       "      <td>15,D,2B</td>\n",
       "    </tr>\n",
       "    <tr>\n",
       "      <th>2</th>\n",
       "      <td>2</td>\n",
       "      <td>-0.260614</td>\n",
       "      <td>0.001543</td>\n",
       "      <td>0.540371</td>\n",
       "      <td>0.408529</td>\n",
       "      <td>-0.007383</td>\n",
       "      <td>0.009371</td>\n",
       "      <td>0.118271</td>\n",
       "      <td>0.010857</td>\n",
       "      <td>0.084171</td>\n",
       "      <td>...</td>\n",
       "      <td>0.210829</td>\n",
       "      <td>0.237457</td>\n",
       "      <td>0.418671</td>\n",
       "      <td>0.422343</td>\n",
       "      <td>0.174729</td>\n",
       "      <td>0.007300</td>\n",
       "      <td>0.583414</td>\n",
       "      <td>0.306743</td>\n",
       "      <td>0.023386</td>\n",
       "      <td>15,D,2B</td>\n",
       "    </tr>\n",
       "    <tr>\n",
       "      <th>3</th>\n",
       "      <td>3</td>\n",
       "      <td>-0.403471</td>\n",
       "      <td>-0.284171</td>\n",
       "      <td>0.111800</td>\n",
       "      <td>-0.162900</td>\n",
       "      <td>0.159283</td>\n",
       "      <td>-0.133486</td>\n",
       "      <td>-0.024586</td>\n",
       "      <td>-0.132000</td>\n",
       "      <td>0.227029</td>\n",
       "      <td>...</td>\n",
       "      <td>0.210829</td>\n",
       "      <td>0.237457</td>\n",
       "      <td>-0.295614</td>\n",
       "      <td>-0.149086</td>\n",
       "      <td>-0.396700</td>\n",
       "      <td>0.007300</td>\n",
       "      <td>0.726271</td>\n",
       "      <td>-0.121829</td>\n",
       "      <td>0.023386</td>\n",
       "      <td>15,D,2B</td>\n",
       "    </tr>\n",
       "    <tr>\n",
       "      <th>4</th>\n",
       "      <td>4</td>\n",
       "      <td>0.167957</td>\n",
       "      <td>-0.141314</td>\n",
       "      <td>0.254657</td>\n",
       "      <td>0.122814</td>\n",
       "      <td>-0.007383</td>\n",
       "      <td>-0.419200</td>\n",
       "      <td>0.118271</td>\n",
       "      <td>-0.560571</td>\n",
       "      <td>-0.344400</td>\n",
       "      <td>...</td>\n",
       "      <td>-0.074886</td>\n",
       "      <td>0.380314</td>\n",
       "      <td>0.418671</td>\n",
       "      <td>-0.006229</td>\n",
       "      <td>-0.539557</td>\n",
       "      <td>-0.135557</td>\n",
       "      <td>0.011986</td>\n",
       "      <td>-0.264686</td>\n",
       "      <td>-0.119471</td>\n",
       "      <td>15,D,2B</td>\n",
       "    </tr>\n",
       "  </tbody>\n",
       "</table>\n",
       "<p>5 rows × 82 columns</p>\n",
       "</div>"
      ],
      "text/plain": [
       "   Unnamed: 0         1         2         3         4         5         6  \\\n",
       "0           0  0.596529 -0.284171  0.254657 -0.162900 -0.007383  0.009371   \n",
       "1           1  0.025100  0.001543  0.397514  0.122814 -0.007383 -0.133486   \n",
       "2           2 -0.260614  0.001543  0.540371  0.408529 -0.007383  0.009371   \n",
       "3           3 -0.403471 -0.284171  0.111800 -0.162900  0.159283 -0.133486   \n",
       "4           4  0.167957 -0.141314  0.254657  0.122814 -0.007383 -0.419200   \n",
       "\n",
       "          7         8         9  ...        72        73        74        75  \\\n",
       "0 -0.024586 -0.132000 -0.487257  ...  0.210829  0.523171  0.275814  0.708057   \n",
       "1  0.403986  0.010857  0.084171  ...  0.353686  0.380314  0.275814  0.422343   \n",
       "2  0.118271  0.010857  0.084171  ...  0.210829  0.237457  0.418671  0.422343   \n",
       "3 -0.024586 -0.132000  0.227029  ...  0.210829  0.237457 -0.295614 -0.149086   \n",
       "4  0.118271 -0.560571 -0.344400  ... -0.074886  0.380314  0.418671 -0.006229   \n",
       "\n",
       "         76        77        78        79        80   labels  \n",
       "0  0.174729  0.007300  0.440557 -0.407543  0.166243  15,D,2B  \n",
       "1  0.317586 -0.135557  0.154843  0.592457  0.166243  15,D,2B  \n",
       "2  0.174729  0.007300  0.583414  0.306743  0.023386  15,D,2B  \n",
       "3 -0.396700  0.007300  0.726271 -0.121829  0.023386  15,D,2B  \n",
       "4 -0.539557 -0.135557  0.011986 -0.264686 -0.119471  15,D,2B  \n",
       "\n",
       "[5 rows x 82 columns]"
      ]
     },
     "execution_count": 70,
     "metadata": {},
     "output_type": "execute_result"
    }
   ],
   "source": [
    "df.head()"
   ]
  },
  {
   "cell_type": "code",
   "execution_count": 79,
   "metadata": {},
   "outputs": [
    {
     "data": {
      "image/png": "[encoded data removed]",
      "text/plain": [
       "<Figure size 432x288 with 1 Axes>"
      ]
     },
     "metadata": {
      "needs_background": "light"
     },
     "output_type": "display_data"
    }
   ],
   "source": [
    "chart = sns.countplot(df['labels'])\n",
    "chart.set_xticklabels(chart.get_xticklabels(), rotation=90)\n",
    "pass"
   ]
  },
  {
   "cell_type": "code",
   "execution_count": null,
   "metadata": {},
   "outputs": [],
   "source": []
  }
 ],
 "metadata": {
  "kernelspec": {
   "display_name": "Python 3",
   "language": "python",
   "name": "python3"
  },
  "language_info": {
   "codemirror_mode": {
    "name": "ipython",
    "version": 3
   },
   "file_extension": ".py",
   "mimetype": "text/x-python",
   "name": "python",
   "nbconvert_exporter": "python",
   "pygments_lexer": "ipython3",
   "version": "3.6.8"
  }
 },
 "nbformat": 4,
 "nbformat_minor": 2
}
